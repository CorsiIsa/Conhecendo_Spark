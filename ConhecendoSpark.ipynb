{
  "nbformat": 4,
  "nbformat_minor": 0,
  "metadata": {
    "colab": {
      "provenance": [],
      "authorship_tag": "ABX9TyN0tiCbUmDpvG+N1Qzkpcbm",
      "include_colab_link": true
    },
    "kernelspec": {
      "name": "python3",
      "display_name": "Python 3"
    },
    "language_info": {
      "name": "python"
    }
  },
  "cells": [
    {
      "cell_type": "markdown",
      "metadata": {
        "id": "view-in-github",
        "colab_type": "text"
      },
      "source": [
        "<a href=\"https://colab.research.google.com/github/CorsiIsa/Conhecendo_Spark/blob/master/ConhecendoSpark.ipynb\" target=\"_parent\"><img src=\"https://colab.research.google.com/assets/colab-badge.svg\" alt=\"Open In Colab\"/></a>"
      ]
    },
    {
      "cell_type": "markdown",
      "source": [
        "\n",
        "# Conhecendo o SPARK\n",
        "\n"
      ],
      "metadata": {
        "id": "BuHd5SeOrsTq"
      }
    },
    {
      "cell_type": "markdown",
      "source": [
        "Precisamos fazer a instalação do pyspark <pre><code>```pip install pyspark ``` </code></pre><pre><code>```pip install findspark ``` </code></pre>"
      ],
      "metadata": {
        "id": "1UzZEBUTr0Nv"
      }
    },
    {
      "cell_type": "code",
      "execution_count": 1,
      "metadata": {
        "colab": {
          "base_uri": "https://localhost:8080/"
        },
        "id": "LALtA-gQrJAo",
        "outputId": "7e2439c7-24f3-463a-ae24-2817c8ee9eb5"
      },
      "outputs": [
        {
          "output_type": "stream",
          "name": "stdout",
          "text": [
            "Requirement already satisfied: pyspark in /usr/local/lib/python3.12/dist-packages (3.5.1)\n",
            "Requirement already satisfied: py4j==0.10.9.7 in /usr/local/lib/python3.12/dist-packages (from pyspark) (0.10.9.7)\n"
          ]
        }
      ],
      "source": [
        "!pip install pyspark"
      ]
    },
    {
      "cell_type": "code",
      "source": [
        "!pip install findspark"
      ],
      "metadata": {
        "colab": {
          "base_uri": "https://localhost:8080/"
        },
        "id": "zZ5Dm0F4rT6n",
        "outputId": "d3b00b1c-f463-4676-9b1e-c17d589b1645"
      },
      "execution_count": 2,
      "outputs": [
        {
          "output_type": "stream",
          "name": "stdout",
          "text": [
            "Collecting findspark\n",
            "  Downloading findspark-2.0.1-py2.py3-none-any.whl.metadata (352 bytes)\n",
            "Downloading findspark-2.0.1-py2.py3-none-any.whl (4.4 kB)\n",
            "Installing collected packages: findspark\n",
            "Successfully installed findspark-2.0.1\n"
          ]
        }
      ]
    },
    {
      "cell_type": "markdown",
      "source": [
        "### Importando a biblioteca"
      ],
      "metadata": {
        "id": "R6Le0_--r7Lu"
      }
    },
    {
      "cell_type": "code",
      "source": [
        "from pyspark.sql import Row, DataFrame\n",
        "from pyspark.sql.types import StringType, StructType, StructField, IntegerType\n",
        "from pyspark.sql.functions import col, expr, lit, substring, concat, concat_ws, when, coalesce\n",
        "from pyspark.sql import functions as F\n",
        "from functools import reduce"
      ],
      "metadata": {
        "id": "fm_6jiPBsQfH"
      },
      "execution_count": 11,
      "outputs": []
    },
    {
      "cell_type": "code",
      "source": [
        "import findspark\n",
        "findspark.init()"
      ],
      "metadata": {
        "id": "kbqBXgvNrb5G"
      },
      "execution_count": 3,
      "outputs": []
    },
    {
      "cell_type": "code",
      "source": [
        "from pyspark.sql import SparkSession\n",
        "spark = SparkSession.builder.master(\"local[*]\").getOrCreate()"
      ],
      "metadata": {
        "id": "Nx7v1rsHreuu"
      },
      "execution_count": 4,
      "outputs": []
    },
    {
      "cell_type": "code",
      "source": [
        "df = spark.sql(\"\"\"select 'spark' as hello \"\"\")\n",
        "df.show()"
      ],
      "metadata": {
        "colab": {
          "base_uri": "https://localhost:8080/"
        },
        "id": "hbP4TFHwsEnm",
        "outputId": "86f243c3-b0da-4d4f-e76e-14ea0973911c"
      },
      "execution_count": 5,
      "outputs": [
        {
          "output_type": "stream",
          "name": "stdout",
          "text": [
            "+-----+\n",
            "|hello|\n",
            "+-----+\n",
            "|spark|\n",
            "+-----+\n",
            "\n"
          ]
        }
      ]
    },
    {
      "cell_type": "markdown",
      "source": [
        "### Manipulando dados com o Spark"
      ],
      "metadata": {
        "id": "_M0jDHMWtWF-"
      }
    },
    {
      "cell_type": "markdown",
      "source": [
        "importando nossa base de dados"
      ],
      "metadata": {
        "id": "LVN8Z1hatd-X"
      }
    },
    {
      "cell_type": "code",
      "source": [
        "df = spark.read.csv('banklist.csv', sep = ',', inferSchema = True, header = True)\n",
        "\n",
        "print('df.count  :', df.count())\n",
        "print('df.col ct :', len(df.columns))\n",
        "print('df.columns:', df.columns)"
      ],
      "metadata": {
        "colab": {
          "base_uri": "https://localhost:8080/"
        },
        "id": "i27zIst8tcz-",
        "outputId": "684c8d7a-ca8b-472b-cee5-0b606c77ec02"
      },
      "execution_count": 7,
      "outputs": [
        {
          "output_type": "stream",
          "name": "stdout",
          "text": [
            "df.count  : 561\n",
            "df.col ct : 6\n",
            "df.columns: ['Bank Name', 'City', 'ST', 'CERT', 'Acquiring Institution', 'Closing Date']\n"
          ]
        }
      ]
    },
    {
      "cell_type": "markdown",
      "source": [
        "### Usando sql com o SPARK"
      ],
      "metadata": {
        "id": "ocDMBNa8ujGX"
      }
    },
    {
      "cell_type": "code",
      "source": [
        "df.createOrReplaceTempView(\"banklist\")\n",
        "\n",
        "df_check = spark.sql('''select `Bank Name`, City, `Closing Date` from banklist''')\n",
        "df_check.show(4, truncate=False)"
      ],
      "metadata": {
        "colab": {
          "base_uri": "https://localhost:8080/"
        },
        "id": "rDcUCSdmupfT",
        "outputId": "e05e2382-dd51-43a2-c605-b7bf6d32b4f6"
      },
      "execution_count": 8,
      "outputs": [
        {
          "output_type": "stream",
          "name": "stdout",
          "text": [
            "+--------------------------------+-------------+------------+\n",
            "|Bank Name                       |City         |Closing Date|\n",
            "+--------------------------------+-------------+------------+\n",
            "|The First State Bank            |Barboursville|3-Apr-20    |\n",
            "|Ericson State Bank              |Ericson      |14-Feb-20   |\n",
            "|City National Bank of New Jersey|Newark       |1-Nov-19    |\n",
            "|Resolute Bank                   |Maumee       |25-Oct-19   |\n",
            "+--------------------------------+-------------+------------+\n",
            "only showing top 4 rows\n",
            "\n"
          ]
        }
      ]
    },
    {
      "cell_type": "markdown",
      "source": [
        "### Operação basicas de DataFrame com o SPARK"
      ],
      "metadata": {
        "id": "-aYaBfQDu6Jv"
      }
    },
    {
      "cell_type": "code",
      "source": [
        "df.describe().show()"
      ],
      "metadata": {
        "colab": {
          "base_uri": "https://localhost:8080/"
        },
        "id": "-IFkDL82vDeN",
        "outputId": "32f1e2ec-8ccd-4249-b7a1-fc65b748dea6"
      },
      "execution_count": 13,
      "outputs": [
        {
          "output_type": "stream",
          "name": "stdout",
          "text": [
            "+-------+--------------------+-------+----+-----------------+---------------------+------------+\n",
            "|summary|           Bank Name|   City|  ST|             CERT|Acquiring Institution|Closing Date|\n",
            "+-------+--------------------+-------+----+-----------------+---------------------+------------+\n",
            "|  count|                 561|    561| 561|              561|                  561|         561|\n",
            "|   mean|                NULL|   NULL|NULL|31685.68449197861|                 NULL|        NULL|\n",
            "| stddev|                NULL|   NULL|NULL|16446.65659309965|                 NULL|        NULL|\n",
            "|    min|1st American Stat...|Acworth|  AL|               91|      1st United Bank|    1-Aug-08|\n",
            "|    max|               ebank|Wyoming|  WY|            58701|  Your Community Bank|    9-Sep-11|\n",
            "+-------+--------------------+-------+----+-----------------+---------------------+------------+\n",
            "\n"
          ]
        }
      ]
    },
    {
      "cell_type": "code",
      "source": [
        "df.describe('City', 'ST').show()"
      ],
      "metadata": {
        "colab": {
          "base_uri": "https://localhost:8080/"
        },
        "id": "yoW4k9j2wwI1",
        "outputId": "36034377-dafe-4358-b6ca-f0555ba80e56"
      },
      "execution_count": 14,
      "outputs": [
        {
          "output_type": "stream",
          "name": "stdout",
          "text": [
            "+-------+-------+----+\n",
            "|summary|   City|  ST|\n",
            "+-------+-------+----+\n",
            "|  count|    561| 561|\n",
            "|   mean|   NULL|NULL|\n",
            "| stddev|   NULL|NULL|\n",
            "|    min|Acworth|  AL|\n",
            "|    max|Wyoming|  WY|\n",
            "+-------+-------+----+\n",
            "\n"
          ]
        }
      ]
    },
    {
      "cell_type": "code",
      "source": [
        "print('Total de linhas:', df.count())\n",
        "print('Total de colunas:', len(df.columns))\n",
        "print('Tipo de dados:', df.dtypes)\n",
        "print('Schema:', df.schema)"
      ],
      "metadata": {
        "colab": {
          "base_uri": "https://localhost:8080/"
        },
        "id": "HtGS-7yXw0_e",
        "outputId": "f0846acf-b3f1-43b7-9090-15d07408c0de"
      },
      "execution_count": 15,
      "outputs": [
        {
          "output_type": "stream",
          "name": "stdout",
          "text": [
            "Total de linhas: 561\n",
            "Total de colunas: 6\n",
            "Tipo de dados: [('Bank Name', 'string'), ('City', 'string'), ('ST', 'string'), ('CERT', 'int'), ('Acquiring Institution', 'string'), ('Closing Date', 'string')]\n",
            "Schema: StructType([StructField('Bank Name', StringType(), True), StructField('City', StringType(), True), StructField('ST', StringType(), True), StructField('CERT', IntegerType(), True), StructField('Acquiring Institution', StringType(), True), StructField('Closing Date', StringType(), True)])\n"
          ]
        }
      ]
    },
    {
      "cell_type": "markdown",
      "source": [
        "Aqui seria como visualizar a estrutura da nossa tabela no sql"
      ],
      "metadata": {
        "id": "9rshH9caw6u9"
      }
    },
    {
      "cell_type": "code",
      "source": [
        "print('df schema 1:')\n",
        "df.printSchema()"
      ],
      "metadata": {
        "colab": {
          "base_uri": "https://localhost:8080/"
        },
        "id": "QO3lklbZw3bu",
        "outputId": "8df3ba0f-5b38-400c-b04f-b71968bee0da"
      },
      "execution_count": 16,
      "outputs": [
        {
          "output_type": "stream",
          "name": "stdout",
          "text": [
            "df schema 1:\n",
            "root\n",
            " |-- Bank Name: string (nullable = true)\n",
            " |-- City: string (nullable = true)\n",
            " |-- ST: string (nullable = true)\n",
            " |-- CERT: integer (nullable = true)\n",
            " |-- Acquiring Institution: string (nullable = true)\n",
            " |-- Closing Date: string (nullable = true)\n",
            "\n"
          ]
        }
      ]
    },
    {
      "cell_type": "markdown",
      "source": [
        "### Removendo duplicatas"
      ],
      "metadata": {
        "id": "44YFL1Y_xBgt"
      }
    },
    {
      "cell_type": "code",
      "source": [
        "df = df.dropDuplicates()\n",
        "print('df.count\t\t:', df.count())\n",
        "print('df.columns\t:', df.columns)"
      ],
      "metadata": {
        "colab": {
          "base_uri": "https://localhost:8080/"
        },
        "id": "ZQTfw7DlxGGV",
        "outputId": "85260548-1d9b-4ca5-b407-ab8def8163bd"
      },
      "execution_count": 17,
      "outputs": [
        {
          "output_type": "stream",
          "name": "stdout",
          "text": [
            "df.count\t\t: 561\n",
            "df.columns\t: ['Bank Name', 'City', 'ST', 'CERT', 'Acquiring Institution', 'Closing Date']\n"
          ]
        }
      ]
    },
    {
      "cell_type": "markdown",
      "source": [
        "Podemos notar que o tamanho do DF segue o mesmo, sendo assim, não havia dados duplicados no nosso df."
      ],
      "metadata": {
        "id": "OoLnmwjlxJS2"
      }
    },
    {
      "cell_type": "markdown",
      "source": [
        "### Selecionando colunas específicas"
      ],
      "metadata": {
        "id": "ZIF8mPIGxS02"
      }
    },
    {
      "cell_type": "code",
      "source": [
        "df2 = df.select(*['Bank Name', 'City'])\n",
        "df2.show()"
      ],
      "metadata": {
        "colab": {
          "base_uri": "https://localhost:8080/"
        },
        "id": "K_i1w_xcxXee",
        "outputId": "f8933b78-70e6-4040-c6d6-e44b40b2b9fe"
      },
      "execution_count": 18,
      "outputs": [
        {
          "output_type": "stream",
          "name": "stdout",
          "text": [
            "+--------------------+----------------+\n",
            "|           Bank Name|            City|\n",
            "+--------------------+----------------+\n",
            "| First Bank of Idaho|         Ketchum|\n",
            "|Amcore Bank, Nati...|        Rockford|\n",
            "|        Venture Bank|           Lacey|\n",
            "|First State Bank ...|           Altus|\n",
            "|Valley Capital Ba...|            Mesa|\n",
            "|Michigan Heritage...|Farmington Hills|\n",
            "|Columbia Savings ...|      Cincinnati|\n",
            "|       Fidelity Bank|        Dearborn|\n",
            "|The Park Avenue Bank|        Valdosta|\n",
            "|Western Commercia...|  Woodland Hills|\n",
            "|        Syringa Bank|           Boise|\n",
            "|Republic Federal ...|           Miami|\n",
            "|Westside Communit...|University Place|\n",
            "|   First United Bank|           Crete|\n",
            "|HarVest Bank of M...|    Gaithersburg|\n",
            "|            BankEast|       Knoxville|\n",
            "|    Polk County Bank|        Johnston|\n",
            "|Colorado Capital ...|     Castle Rock|\n",
            "|         Access Bank|        Champlin|\n",
            "|Pacific National ...|   San Francisco|\n",
            "+--------------------+----------------+\n",
            "only showing top 20 rows\n",
            "\n"
          ]
        }
      ]
    },
    {
      "cell_type": "code",
      "source": [
        "#com o sinal de -, estamos falando \"pegue todas as colunas menos essas\"\n",
        "col_l = list(set(df.columns)  - {'CERT','ST'})\n",
        "#depois passamos nosso filtro no select\n",
        "df2 = df.select(*col_l)\n",
        "df2.show()"
      ],
      "metadata": {
        "colab": {
          "base_uri": "https://localhost:8080/"
        },
        "id": "Oop2Lbtgxb5m",
        "outputId": "fae42bd1-a626-4973-9fdc-a749e06d4f2d"
      },
      "execution_count": 20,
      "outputs": [
        {
          "output_type": "stream",
          "name": "stdout",
          "text": [
            "+----------------+------------+---------------------+--------------------+\n",
            "|            City|Closing Date|Acquiring Institution|           Bank Name|\n",
            "+----------------+------------+---------------------+--------------------+\n",
            "|         Ketchum|   24-Apr-09|      U.S. Bank, N.A.| First Bank of Idaho|\n",
            "|        Rockford|   23-Apr-10|          Harris N.A.|Amcore Bank, Nati...|\n",
            "|           Lacey|   11-Sep-09| First-Citizens Ba...|        Venture Bank|\n",
            "|           Altus|   31-Jul-09|         Herring Bank|First State Bank ...|\n",
            "|            Mesa|   11-Dec-09| Enterprise Bank &...|Valley Capital Ba...|\n",
            "|Farmington Hills|   24-Apr-09|       Level One Bank|Michigan Heritage...|\n",
            "|      Cincinnati|   23-May-14| United Fidelity B...|Columbia Savings ...|\n",
            "|        Dearborn|   30-Mar-12| The Huntington Na...|       Fidelity Bank|\n",
            "|        Valdosta|   29-Apr-11|   Bank of the Ozarks|The Park Avenue Bank|\n",
            "|  Woodland Hills|    5-Nov-10| First California ...|Western Commercia...|\n",
            "|           Boise|   31-Jan-14|         Sunwest Bank|        Syringa Bank|\n",
            "|           Miami|   11-Dec-09|      1st United Bank|Republic Federal ...|\n",
            "|University Place|   11-Jan-13|         Sunwest Bank|Westside Communit...|\n",
            "|           Crete|   28-Sep-12| Old Plank Trail C...|   First United Bank|\n",
            "|    Gaithersburg|   27-Apr-12|             Sonabank|HarVest Bank of M...|\n",
            "|       Knoxville|   27-Jan-12|      U.S. Bank, N.A.|            BankEast|\n",
            "|        Johnston|   18-Nov-11|  Grinnell State Bank|    Polk County Bank|\n",
            "|     Castle Rock|    8-Jul-11| First-Citizens Ba...|Colorado Capital ...|\n",
            "|        Champlin|    7-May-10|            PrinsBank|         Access Bank|\n",
            "|   San Francisco|   30-Oct-09|       U.S. Bank N.A.|Pacific National ...|\n",
            "+----------------+------------+---------------------+--------------------+\n",
            "only showing top 20 rows\n",
            "\n"
          ]
        }
      ]
    },
    {
      "cell_type": "markdown",
      "source": [
        "### Remomeando nossas colunas"
      ],
      "metadata": {
        "id": "iAdX5HfNxmz-"
      }
    },
    {
      "cell_type": "code",
      "source": [
        "df2 = df \\\n",
        "  .withColumnRenamed('Bank Name'            , 'bank_name') \\\n",
        "  .withColumnRenamed('Acquiring Institution', 'acq_institution') \\\n",
        "  .withColumnRenamed('Closing Date'         , 'closing_date') \\\n",
        "  .withColumnRenamed('ST'                   , 'state') \\\n",
        "  .withColumnRenamed('CERT'                 , 'cert') #\\\n",
        "\n",
        "df2.show()"
      ],
      "metadata": {
        "colab": {
          "base_uri": "https://localhost:8080/"
        },
        "id": "GshHmGpQxqNd",
        "outputId": "d588f1c7-b868-4562-e285-b374544462cf"
      },
      "execution_count": 21,
      "outputs": [
        {
          "output_type": "stream",
          "name": "stdout",
          "text": [
            "+--------------------+----------------+-----+-----+--------------------+------------+\n",
            "|           bank_name|            City|state| cert|     acq_institution|closing_date|\n",
            "+--------------------+----------------+-----+-----+--------------------+------------+\n",
            "| First Bank of Idaho|         Ketchum|   ID|34396|     U.S. Bank, N.A.|   24-Apr-09|\n",
            "|Amcore Bank, Nati...|        Rockford|   IL| 3735|         Harris N.A.|   23-Apr-10|\n",
            "|        Venture Bank|           Lacey|   WA|22868|First-Citizens Ba...|   11-Sep-09|\n",
            "|First State Bank ...|           Altus|   OK| 9873|        Herring Bank|   31-Jul-09|\n",
            "|Valley Capital Ba...|            Mesa|   AZ|58399|Enterprise Bank &...|   11-Dec-09|\n",
            "|Michigan Heritage...|Farmington Hills|   MI|34369|      Level One Bank|   24-Apr-09|\n",
            "|Columbia Savings ...|      Cincinnati|   OH|32284|United Fidelity B...|   23-May-14|\n",
            "|       Fidelity Bank|        Dearborn|   MI|33883|The Huntington Na...|   30-Mar-12|\n",
            "|The Park Avenue Bank|        Valdosta|   GA|19797|  Bank of the Ozarks|   29-Apr-11|\n",
            "|Western Commercia...|  Woodland Hills|   CA|58087|First California ...|    5-Nov-10|\n",
            "|        Syringa Bank|           Boise|   ID|34296|        Sunwest Bank|   31-Jan-14|\n",
            "|Republic Federal ...|           Miami|   FL|22846|     1st United Bank|   11-Dec-09|\n",
            "|Westside Communit...|University Place|   WA|33997|        Sunwest Bank|   11-Jan-13|\n",
            "|   First United Bank|           Crete|   IL|20685|Old Plank Trail C...|   28-Sep-12|\n",
            "|HarVest Bank of M...|    Gaithersburg|   MD|57766|            Sonabank|   27-Apr-12|\n",
            "|            BankEast|       Knoxville|   TN|19869|     U.S. Bank, N.A.|   27-Jan-12|\n",
            "|    Polk County Bank|        Johnston|   IA|14194| Grinnell State Bank|   18-Nov-11|\n",
            "|Colorado Capital ...|     Castle Rock|   CO|34522|First-Citizens Ba...|    8-Jul-11|\n",
            "|         Access Bank|        Champlin|   MN|16476|           PrinsBank|    7-May-10|\n",
            "|Pacific National ...|   San Francisco|   CA|30006|      U.S. Bank N.A.|   30-Oct-09|\n",
            "+--------------------+----------------+-----+-----+--------------------+------------+\n",
            "only showing top 20 rows\n",
            "\n"
          ]
        }
      ]
    },
    {
      "cell_type": "markdown",
      "source": [
        "### Adicionando colunas"
      ],
      "metadata": {
        "id": "6IuSi4kvyljl"
      }
    },
    {
      "cell_type": "code",
      "source": [
        "df2 = df.withColumn('state', col('ST'))\n",
        "df2.show()"
      ],
      "metadata": {
        "colab": {
          "base_uri": "https://localhost:8080/"
        },
        "id": "Ta5il2P7yo01",
        "outputId": "dae38b7d-4590-47b6-8aca-f3f453ac6cf3"
      },
      "execution_count": 22,
      "outputs": [
        {
          "output_type": "stream",
          "name": "stdout",
          "text": [
            "+--------------------+----------------+---+-----+---------------------+------------+-----+\n",
            "|           Bank Name|            City| ST| CERT|Acquiring Institution|Closing Date|state|\n",
            "+--------------------+----------------+---+-----+---------------------+------------+-----+\n",
            "| First Bank of Idaho|         Ketchum| ID|34396|      U.S. Bank, N.A.|   24-Apr-09|   ID|\n",
            "|Amcore Bank, Nati...|        Rockford| IL| 3735|          Harris N.A.|   23-Apr-10|   IL|\n",
            "|        Venture Bank|           Lacey| WA|22868| First-Citizens Ba...|   11-Sep-09|   WA|\n",
            "|First State Bank ...|           Altus| OK| 9873|         Herring Bank|   31-Jul-09|   OK|\n",
            "|Valley Capital Ba...|            Mesa| AZ|58399| Enterprise Bank &...|   11-Dec-09|   AZ|\n",
            "|Michigan Heritage...|Farmington Hills| MI|34369|       Level One Bank|   24-Apr-09|   MI|\n",
            "|Columbia Savings ...|      Cincinnati| OH|32284| United Fidelity B...|   23-May-14|   OH|\n",
            "|       Fidelity Bank|        Dearborn| MI|33883| The Huntington Na...|   30-Mar-12|   MI|\n",
            "|The Park Avenue Bank|        Valdosta| GA|19797|   Bank of the Ozarks|   29-Apr-11|   GA|\n",
            "|Western Commercia...|  Woodland Hills| CA|58087| First California ...|    5-Nov-10|   CA|\n",
            "|        Syringa Bank|           Boise| ID|34296|         Sunwest Bank|   31-Jan-14|   ID|\n",
            "|Republic Federal ...|           Miami| FL|22846|      1st United Bank|   11-Dec-09|   FL|\n",
            "|Westside Communit...|University Place| WA|33997|         Sunwest Bank|   11-Jan-13|   WA|\n",
            "|   First United Bank|           Crete| IL|20685| Old Plank Trail C...|   28-Sep-12|   IL|\n",
            "|HarVest Bank of M...|    Gaithersburg| MD|57766|             Sonabank|   27-Apr-12|   MD|\n",
            "|            BankEast|       Knoxville| TN|19869|      U.S. Bank, N.A.|   27-Jan-12|   TN|\n",
            "|    Polk County Bank|        Johnston| IA|14194|  Grinnell State Bank|   18-Nov-11|   IA|\n",
            "|Colorado Capital ...|     Castle Rock| CO|34522| First-Citizens Ba...|    8-Jul-11|   CO|\n",
            "|         Access Bank|        Champlin| MN|16476|            PrinsBank|    7-May-10|   MN|\n",
            "|Pacific National ...|   San Francisco| CA|30006|       U.S. Bank N.A.|   30-Oct-09|   CA|\n",
            "+--------------------+----------------+---+-----+---------------------+------------+-----+\n",
            "only showing top 20 rows\n",
            "\n"
          ]
        }
      ]
    },
    {
      "cell_type": "markdown",
      "source": [
        "### Adicionando regras nas colunas"
      ],
      "metadata": {
        "id": "enq2WOGEzNs0"
      }
    },
    {
      "cell_type": "markdown",
      "source": [
        "Iremos criar uma coluna onde ele só possa receber um valor fixo (ou seja, todos os registros terão o mesmo valor)"
      ],
      "metadata": {
        "id": "dbMVRwxczRmu"
      }
    },
    {
      "cell_type": "code",
      "source": [
        "df2 = df.withColumn('country', lit('US'))\n",
        "df2.show(2)"
      ],
      "metadata": {
        "colab": {
          "base_uri": "https://localhost:8080/"
        },
        "id": "RZUjWrCMzNC1",
        "outputId": "15f3d41d-7934-4666-9f13-6328a8e30fd9"
      },
      "execution_count": 23,
      "outputs": [
        {
          "output_type": "stream",
          "name": "stdout",
          "text": [
            "+--------------------+--------+---+-----+---------------------+------------+-------+\n",
            "|           Bank Name|    City| ST| CERT|Acquiring Institution|Closing Date|country|\n",
            "+--------------------+--------+---+-----+---------------------+------------+-------+\n",
            "| First Bank of Idaho| Ketchum| ID|34396|      U.S. Bank, N.A.|   24-Apr-09|     US|\n",
            "|Amcore Bank, Nati...|Rockford| IL| 3735|          Harris N.A.|   23-Apr-10|     US|\n",
            "+--------------------+--------+---+-----+---------------------+------------+-------+\n",
            "only showing top 2 rows\n",
            "\n"
          ]
        }
      ]
    },
    {
      "cell_type": "markdown",
      "source": [
        "### Apagando colunas"
      ],
      "metadata": {
        "id": "vLfLnikczrN9"
      }
    },
    {
      "cell_type": "code",
      "source": [
        "df2 = df.drop('CERT')\n",
        "df2.show(2)"
      ],
      "metadata": {
        "colab": {
          "base_uri": "https://localhost:8080/"
        },
        "id": "fc-nzK2DzuEM",
        "outputId": "ac621410-35f7-43e0-d3a4-e344d0c57f48"
      },
      "execution_count": 24,
      "outputs": [
        {
          "output_type": "stream",
          "name": "stdout",
          "text": [
            "+--------------------+--------+---+---------------------+------------+\n",
            "|           Bank Name|    City| ST|Acquiring Institution|Closing Date|\n",
            "+--------------------+--------+---+---------------------+------------+\n",
            "| First Bank of Idaho| Ketchum| ID|      U.S. Bank, N.A.|   24-Apr-09|\n",
            "|Amcore Bank, Nati...|Rockford| IL|          Harris N.A.|   23-Apr-10|\n",
            "+--------------------+--------+---+---------------------+------------+\n",
            "only showing top 2 rows\n",
            "\n"
          ]
        }
      ]
    },
    {
      "cell_type": "markdown",
      "source": [
        "apagando mais de uma coluna"
      ],
      "metadata": {
        "id": "F9TUT1Aez7ET"
      }
    },
    {
      "cell_type": "code",
      "source": [
        "df2 = df.drop(*['CERT', 'ST'])\n",
        "df2.show(2)"
      ],
      "metadata": {
        "colab": {
          "base_uri": "https://localhost:8080/"
        },
        "id": "prDPCpCHz9K5",
        "outputId": "8525f0c4-f029-430a-da24-747b67fd0893"
      },
      "execution_count": 25,
      "outputs": [
        {
          "output_type": "stream",
          "name": "stdout",
          "text": [
            "+--------------------+--------+---------------------+------------+\n",
            "|           Bank Name|    City|Acquiring Institution|Closing Date|\n",
            "+--------------------+--------+---------------------+------------+\n",
            "| First Bank of Idaho| Ketchum|      U.S. Bank, N.A.|   24-Apr-09|\n",
            "|Amcore Bank, Nati...|Rockford|          Harris N.A.|   23-Apr-10|\n",
            "+--------------------+--------+---------------------+------------+\n",
            "only showing top 2 rows\n",
            "\n"
          ]
        }
      ]
    },
    {
      "cell_type": "markdown",
      "source": [
        "### Filtrando dados"
      ],
      "metadata": {
        "id": "gVBrIhiI0QWF"
      }
    },
    {
      "cell_type": "code",
      "source": [
        "df2 = df.where(df['ST'] == 'NE')\n",
        "\n",
        "#Pega valores entre um determinado intervalo\n",
        "df3 = df.where(df['CERT'].between('1000','2000'))\n",
        "\n",
        "#Pega onde o ST é NE ou IL\n",
        "df4 = df.where(df['ST'].isin('NE','IL'))\n",
        "\n",
        "print('df.count  :', df.count())\n",
        "print('df2.count :', df2.count())\n",
        "print('df3.count :', df3.count())\n",
        "print('df4.count :', df4.count())"
      ],
      "metadata": {
        "colab": {
          "base_uri": "https://localhost:8080/"
        },
        "id": "G0A30a0a1HWl",
        "outputId": "12bb5f60-180e-476e-bc14-f01d36528328"
      },
      "execution_count": 28,
      "outputs": [
        {
          "output_type": "stream",
          "name": "stdout",
          "text": [
            "df.count  : 561\n",
            "df2.count : 4\n",
            "df3.count : 9\n",
            "df4.count : 73\n"
          ]
        }
      ]
    },
    {
      "cell_type": "code",
      "source": [
        "\n",
        "df2 = df.where((df['ST'] == 'NE') & (df['City'] == 'Ericson'))\n",
        "df2.show(3)"
      ],
      "metadata": {
        "colab": {
          "base_uri": "https://localhost:8080/"
        },
        "id": "PzUQkjCM1cml",
        "outputId": "59a22e3f-1fbc-4137-8853-a64c1c57517b"
      },
      "execution_count": 29,
      "outputs": [
        {
          "output_type": "stream",
          "name": "stdout",
          "text": [
            "+------------------+-------+---+-----+---------------------+------------+\n",
            "|         Bank Name|   City| ST| CERT|Acquiring Institution|Closing Date|\n",
            "+------------------+-------+---+-----+---------------------+------------+\n",
            "|Ericson State Bank|Ericson| NE|18265| Farmers and Merch...|   14-Feb-20|\n",
            "+------------------+-------+---+-----+---------------------+------------+\n",
            "\n"
          ]
        }
      ]
    },
    {
      "cell_type": "markdown",
      "source": [
        "### Substituindo valores no nosso banco"
      ],
      "metadata": {
        "id": "Xh0CUEFc1fUF"
      }
    },
    {
      "cell_type": "code",
      "source": [
        "\n",
        "df.show(2)\n",
        "print('Estamos substituindo 7 por 17')\n",
        "df.na.replace(7,17).show(2)"
      ],
      "metadata": {
        "colab": {
          "base_uri": "https://localhost:8080/"
        },
        "id": "fOC9-9O01iPT",
        "outputId": "9ce3700b-bec3-481a-8117-babdbf7e686f"
      },
      "execution_count": 30,
      "outputs": [
        {
          "output_type": "stream",
          "name": "stdout",
          "text": [
            "+--------------------+--------+---+-----+---------------------+------------+\n",
            "|           Bank Name|    City| ST| CERT|Acquiring Institution|Closing Date|\n",
            "+--------------------+--------+---+-----+---------------------+------------+\n",
            "| First Bank of Idaho| Ketchum| ID|34396|      U.S. Bank, N.A.|   24-Apr-09|\n",
            "|Amcore Bank, Nati...|Rockford| IL| 3735|          Harris N.A.|   23-Apr-10|\n",
            "+--------------------+--------+---+-----+---------------------+------------+\n",
            "only showing top 2 rows\n",
            "\n",
            "Estamos substituindo 7 por 17\n",
            "+--------------------+--------+---+-----+---------------------+------------+\n",
            "|           Bank Name|    City| ST| CERT|Acquiring Institution|Closing Date|\n",
            "+--------------------+--------+---+-----+---------------------+------------+\n",
            "| First Bank of Idaho| Ketchum| ID|34396|      U.S. Bank, N.A.|   24-Apr-09|\n",
            "|Amcore Bank, Nati...|Rockford| IL| 3735|          Harris N.A.|   23-Apr-10|\n",
            "+--------------------+--------+---+-----+---------------------+------------+\n",
            "only showing top 2 rows\n",
            "\n"
          ]
        }
      ]
    }
  ]
}